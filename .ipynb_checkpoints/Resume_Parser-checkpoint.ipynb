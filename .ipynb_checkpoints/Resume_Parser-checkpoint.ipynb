{
 "cells": [
  {
   "cell_type": "code",
   "execution_count": 23,
   "id": "85a1939e",
   "metadata": {},
   "outputs": [
    {
     "name": "stdout",
     "output_type": "stream",
     "text": [
      "Defaulting to user installation because normal site-packages is not writeable\n",
      "Requirement already satisfied: spacy in c:\\users\\yuva7\\appdata\\roaming\\python\\python39\\site-packages (3.6.1)\n",
      "Requirement already satisfied: numpy>=1.15.0 in c:\\programdata\\anaconda3\\lib\\site-packages (from spacy) (1.21.5)\n",
      "Requirement already satisfied: smart-open<7.0.0,>=5.2.1 in c:\\users\\yuva7\\appdata\\roaming\\python\\python39\\site-packages (from spacy) (6.3.0)\n",
      "Requirement already satisfied: packaging>=20.0 in c:\\programdata\\anaconda3\\lib\\site-packages (from spacy) (21.3)\n",
      "Requirement already satisfied: tqdm<5.0.0,>=4.38.0 in c:\\programdata\\anaconda3\\lib\\site-packages (from spacy) (4.64.0)\n",
      "Requirement already satisfied: srsly<3.0.0,>=2.4.3 in c:\\users\\yuva7\\appdata\\roaming\\python\\python39\\site-packages (from spacy) (2.4.7)\n",
      "Requirement already satisfied: setuptools in c:\\programdata\\anaconda3\\lib\\site-packages (from spacy) (61.2.0)\n",
      "Requirement already satisfied: langcodes<4.0.0,>=3.2.0 in c:\\users\\yuva7\\appdata\\roaming\\python\\python39\\site-packages (from spacy) (3.3.0)\n",
      "Requirement already satisfied: pydantic!=1.8,!=1.8.1,<3.0.0,>=1.7.4 in c:\\users\\yuva7\\appdata\\roaming\\python\\python39\\site-packages (from spacy) (2.3.0)\n",
      "Requirement already satisfied: catalogue<2.1.0,>=2.0.6 in c:\\users\\yuva7\\appdata\\roaming\\python\\python39\\site-packages (from spacy) (2.0.9)\n",
      "Requirement already satisfied: spacy-loggers<2.0.0,>=1.0.0 in c:\\users\\yuva7\\appdata\\roaming\\python\\python39\\site-packages (from spacy) (1.0.4)\n",
      "Requirement already satisfied: spacy-legacy<3.1.0,>=3.0.11 in c:\\users\\yuva7\\appdata\\roaming\\python\\python39\\site-packages (from spacy) (3.0.12)\n",
      "Requirement already satisfied: typer<0.10.0,>=0.3.0 in c:\\users\\yuva7\\appdata\\roaming\\python\\python39\\site-packages (from spacy) (0.9.0)\n",
      "Requirement already satisfied: murmurhash<1.1.0,>=0.28.0 in c:\\users\\yuva7\\appdata\\roaming\\python\\python39\\site-packages (from spacy) (1.0.9)\n",
      "Requirement already satisfied: cymem<2.1.0,>=2.0.2 in c:\\users\\yuva7\\appdata\\roaming\\python\\python39\\site-packages (from spacy) (2.0.7)\n",
      "Requirement already satisfied: requests<3.0.0,>=2.13.0 in c:\\programdata\\anaconda3\\lib\\site-packages (from spacy) (2.27.1)\n",
      "Requirement already satisfied: wasabi<1.2.0,>=0.9.1 in c:\\users\\yuva7\\appdata\\roaming\\python\\python39\\site-packages (from spacy) (1.1.2)\n",
      "Requirement already satisfied: jinja2 in c:\\programdata\\anaconda3\\lib\\site-packages (from spacy) (2.11.3)\n",
      "Requirement already satisfied: preshed<3.1.0,>=3.0.2 in c:\\users\\yuva7\\appdata\\roaming\\python\\python39\\site-packages (from spacy) (3.0.8)\n",
      "Requirement already satisfied: thinc<8.2.0,>=8.1.8 in c:\\users\\yuva7\\appdata\\roaming\\python\\python39\\site-packages (from spacy) (8.1.12)\n",
      "Requirement already satisfied: pathy>=0.10.0 in c:\\users\\yuva7\\appdata\\roaming\\python\\python39\\site-packages (from spacy) (0.10.2)\n",
      "Requirement already satisfied: pyparsing!=3.0.5,>=2.0.2 in c:\\programdata\\anaconda3\\lib\\site-packages (from packaging>=20.0->spacy) (3.0.4)\n",
      "Requirement already satisfied: pydantic-core==2.6.3 in c:\\users\\yuva7\\appdata\\roaming\\python\\python39\\site-packages (from pydantic!=1.8,!=1.8.1,<3.0.0,>=1.7.4->spacy) (2.6.3)\n",
      "Requirement already satisfied: annotated-types>=0.4.0 in c:\\users\\yuva7\\appdata\\roaming\\python\\python39\\site-packages (from pydantic!=1.8,!=1.8.1,<3.0.0,>=1.7.4->spacy) (0.5.0)\n",
      "Requirement already satisfied: typing-extensions>=4.6.1 in c:\\users\\yuva7\\appdata\\roaming\\python\\python39\\site-packages (from pydantic!=1.8,!=1.8.1,<3.0.0,>=1.7.4->spacy) (4.7.1)\n",
      "Requirement already satisfied: urllib3<1.27,>=1.21.1 in c:\\programdata\\anaconda3\\lib\\site-packages (from requests<3.0.0,>=2.13.0->spacy) (1.26.9)\n",
      "Requirement already satisfied: idna<4,>=2.5 in c:\\programdata\\anaconda3\\lib\\site-packages (from requests<3.0.0,>=2.13.0->spacy) (3.3)\n",
      "Requirement already satisfied: certifi>=2017.4.17 in c:\\programdata\\anaconda3\\lib\\site-packages (from requests<3.0.0,>=2.13.0->spacy) (2021.10.8)\n",
      "Requirement already satisfied: charset-normalizer~=2.0.0 in c:\\programdata\\anaconda3\\lib\\site-packages (from requests<3.0.0,>=2.13.0->spacy) (2.0.4)\n",
      "Requirement already satisfied: confection<1.0.0,>=0.0.1 in c:\\users\\yuva7\\appdata\\roaming\\python\\python39\\site-packages (from thinc<8.2.0,>=8.1.8->spacy) (0.1.1)\n",
      "Requirement already satisfied: blis<0.8.0,>=0.7.8 in c:\\users\\yuva7\\appdata\\roaming\\python\\python39\\site-packages (from thinc<8.2.0,>=8.1.8->spacy) (0.7.10)\n",
      "Requirement already satisfied: colorama in c:\\users\\yuva7\\appdata\\roaming\\python\\python39\\site-packages (from tqdm<5.0.0,>=4.38.0->spacy) (0.4.6)\n",
      "Requirement already satisfied: click<9.0.0,>=7.1.1 in c:\\programdata\\anaconda3\\lib\\site-packages (from typer<0.10.0,>=0.3.0->spacy) (8.0.4)\n",
      "Requirement already satisfied: MarkupSafe>=0.23 in c:\\programdata\\anaconda3\\lib\\site-packages (from jinja2->spacy) (2.0.1)\n",
      "Defaulting to user installation because normal site-packages is not writeable\n",
      "Requirement already satisfied: spacy_transformers in c:\\users\\yuva7\\appdata\\roaming\\python\\python39\\site-packages (1.2.5)\n",
      "Requirement already satisfied: srsly<3.0.0,>=2.4.0 in c:\\users\\yuva7\\appdata\\roaming\\python\\python39\\site-packages (from spacy_transformers) (2.4.7)\n",
      "Requirement already satisfied: torch>=1.8.0 in c:\\users\\yuva7\\appdata\\roaming\\python\\python39\\site-packages (from spacy_transformers) (2.0.1)\n",
      "Requirement already satisfied: spacy-alignments<1.0.0,>=0.7.2 in c:\\users\\yuva7\\appdata\\roaming\\python\\python39\\site-packages (from spacy_transformers) (0.9.0)\n",
      "Requirement already satisfied: spacy<4.0.0,>=3.5.0 in c:\\users\\yuva7\\appdata\\roaming\\python\\python39\\site-packages (from spacy_transformers) (3.6.1)\n",
      "Requirement already satisfied: transformers<4.31.0,>=3.4.0 in c:\\users\\yuva7\\appdata\\roaming\\python\\python39\\site-packages (from spacy_transformers) (4.30.2)\n",
      "Requirement already satisfied: numpy>=1.15.0 in c:\\programdata\\anaconda3\\lib\\site-packages (from spacy_transformers) (1.21.5)\n",
      "Requirement already satisfied: thinc<8.2.0,>=8.1.8 in c:\\users\\yuva7\\appdata\\roaming\\python\\python39\\site-packages (from spacy<4.0.0,>=3.5.0->spacy_transformers) (8.1.12)\n",
      "Requirement already satisfied: smart-open<7.0.0,>=5.2.1 in c:\\users\\yuva7\\appdata\\roaming\\python\\python39\\site-packages (from spacy<4.0.0,>=3.5.0->spacy_transformers) (6.3.0)\n",
      "Requirement already satisfied: langcodes<4.0.0,>=3.2.0 in c:\\users\\yuva7\\appdata\\roaming\\python\\python39\\site-packages (from spacy<4.0.0,>=3.5.0->spacy_transformers) (3.3.0)\n",
      "Requirement already satisfied: catalogue<2.1.0,>=2.0.6 in c:\\users\\yuva7\\appdata\\roaming\\python\\python39\\site-packages (from spacy<4.0.0,>=3.5.0->spacy_transformers) (2.0.9)\n",
      "Requirement already satisfied: spacy-legacy<3.1.0,>=3.0.11 in c:\\users\\yuva7\\appdata\\roaming\\python\\python39\\site-packages (from spacy<4.0.0,>=3.5.0->spacy_transformers) (3.0.12)\n",
      "Requirement already satisfied: spacy-loggers<2.0.0,>=1.0.0 in c:\\users\\yuva7\\appdata\\roaming\\python\\python39\\site-packages (from spacy<4.0.0,>=3.5.0->spacy_transformers) (1.0.4)\n",
      "Requirement already satisfied: tqdm<5.0.0,>=4.38.0 in c:\\programdata\\anaconda3\\lib\\site-packages (from spacy<4.0.0,>=3.5.0->spacy_transformers) (4.64.0)\n",
      "Requirement already satisfied: murmurhash<1.1.0,>=0.28.0 in c:\\users\\yuva7\\appdata\\roaming\\python\\python39\\site-packages (from spacy<4.0.0,>=3.5.0->spacy_transformers) (1.0.9)\n",
      "Requirement already satisfied: pathy>=0.10.0 in c:\\users\\yuva7\\appdata\\roaming\\python\\python39\\site-packages (from spacy<4.0.0,>=3.5.0->spacy_transformers) (0.10.2)\n",
      "Requirement already satisfied: packaging>=20.0 in c:\\programdata\\anaconda3\\lib\\site-packages (from spacy<4.0.0,>=3.5.0->spacy_transformers) (21.3)\n",
      "Requirement already satisfied: preshed<3.1.0,>=3.0.2 in c:\\users\\yuva7\\appdata\\roaming\\python\\python39\\site-packages (from spacy<4.0.0,>=3.5.0->spacy_transformers) (3.0.8)\n",
      "Requirement already satisfied: requests<3.0.0,>=2.13.0 in c:\\programdata\\anaconda3\\lib\\site-packages (from spacy<4.0.0,>=3.5.0->spacy_transformers) (2.27.1)\n",
      "Requirement already satisfied: pydantic!=1.8,!=1.8.1,<3.0.0,>=1.7.4 in c:\\users\\yuva7\\appdata\\roaming\\python\\python39\\site-packages (from spacy<4.0.0,>=3.5.0->spacy_transformers) (2.3.0)\n",
      "Requirement already satisfied: wasabi<1.2.0,>=0.9.1 in c:\\users\\yuva7\\appdata\\roaming\\python\\python39\\site-packages (from spacy<4.0.0,>=3.5.0->spacy_transformers) (1.1.2)\n",
      "Requirement already satisfied: jinja2 in c:\\programdata\\anaconda3\\lib\\site-packages (from spacy<4.0.0,>=3.5.0->spacy_transformers) (2.11.3)\n",
      "Requirement already satisfied: setuptools in c:\\programdata\\anaconda3\\lib\\site-packages (from spacy<4.0.0,>=3.5.0->spacy_transformers) (61.2.0)\n",
      "Requirement already satisfied: typer<0.10.0,>=0.3.0 in c:\\users\\yuva7\\appdata\\roaming\\python\\python39\\site-packages (from spacy<4.0.0,>=3.5.0->spacy_transformers) (0.9.0)\n",
      "Requirement already satisfied: cymem<2.1.0,>=2.0.2 in c:\\users\\yuva7\\appdata\\roaming\\python\\python39\\site-packages (from spacy<4.0.0,>=3.5.0->spacy_transformers) (2.0.7)\n",
      "Requirement already satisfied: pyparsing!=3.0.5,>=2.0.2 in c:\\programdata\\anaconda3\\lib\\site-packages (from packaging>=20.0->spacy<4.0.0,>=3.5.0->spacy_transformers) (3.0.4)\n",
      "Requirement already satisfied: pydantic-core==2.6.3 in c:\\users\\yuva7\\appdata\\roaming\\python\\python39\\site-packages (from pydantic!=1.8,!=1.8.1,<3.0.0,>=1.7.4->spacy<4.0.0,>=3.5.0->spacy_transformers) (2.6.3)\n",
      "Requirement already satisfied: annotated-types>=0.4.0 in c:\\users\\yuva7\\appdata\\roaming\\python\\python39\\site-packages (from pydantic!=1.8,!=1.8.1,<3.0.0,>=1.7.4->spacy<4.0.0,>=3.5.0->spacy_transformers) (0.5.0)\n",
      "Requirement already satisfied: typing-extensions>=4.6.1 in c:\\users\\yuva7\\appdata\\roaming\\python\\python39\\site-packages (from pydantic!=1.8,!=1.8.1,<3.0.0,>=1.7.4->spacy<4.0.0,>=3.5.0->spacy_transformers) (4.7.1)\n",
      "Requirement already satisfied: charset-normalizer~=2.0.0 in c:\\programdata\\anaconda3\\lib\\site-packages (from requests<3.0.0,>=2.13.0->spacy<4.0.0,>=3.5.0->spacy_transformers) (2.0.4)\n",
      "Requirement already satisfied: urllib3<1.27,>=1.21.1 in c:\\programdata\\anaconda3\\lib\\site-packages (from requests<3.0.0,>=2.13.0->spacy<4.0.0,>=3.5.0->spacy_transformers) (1.26.9)\n",
      "Requirement already satisfied: certifi>=2017.4.17 in c:\\programdata\\anaconda3\\lib\\site-packages (from requests<3.0.0,>=2.13.0->spacy<4.0.0,>=3.5.0->spacy_transformers) (2021.10.8)\n",
      "Requirement already satisfied: idna<4,>=2.5 in c:\\programdata\\anaconda3\\lib\\site-packages (from requests<3.0.0,>=2.13.0->spacy<4.0.0,>=3.5.0->spacy_transformers) (3.3)\n",
      "Requirement already satisfied: confection<1.0.0,>=0.0.1 in c:\\users\\yuva7\\appdata\\roaming\\python\\python39\\site-packages (from thinc<8.2.0,>=8.1.8->spacy<4.0.0,>=3.5.0->spacy_transformers) (0.1.1)\n",
      "Requirement already satisfied: blis<0.8.0,>=0.7.8 in c:\\users\\yuva7\\appdata\\roaming\\python\\python39\\site-packages (from thinc<8.2.0,>=8.1.8->spacy<4.0.0,>=3.5.0->spacy_transformers) (0.7.10)\n",
      "Requirement already satisfied: networkx in c:\\programdata\\anaconda3\\lib\\site-packages (from torch>=1.8.0->spacy_transformers) (2.7.1)\n",
      "Requirement already satisfied: filelock in c:\\programdata\\anaconda3\\lib\\site-packages (from torch>=1.8.0->spacy_transformers) (3.6.0)\n",
      "Requirement already satisfied: sympy in c:\\programdata\\anaconda3\\lib\\site-packages (from torch>=1.8.0->spacy_transformers) (1.10.1)\n",
      "Requirement already satisfied: colorama in c:\\users\\yuva7\\appdata\\roaming\\python\\python39\\site-packages (from tqdm<5.0.0,>=4.38.0->spacy<4.0.0,>=3.5.0->spacy_transformers) (0.4.6)\n",
      "Requirement already satisfied: pyyaml>=5.1 in c:\\programdata\\anaconda3\\lib\\site-packages (from transformers<4.31.0,>=3.4.0->spacy_transformers) (6.0)\n",
      "Requirement already satisfied: tokenizers!=0.11.3,<0.14,>=0.11.1 in c:\\users\\yuva7\\appdata\\roaming\\python\\python39\\site-packages (from transformers<4.31.0,>=3.4.0->spacy_transformers) (0.13.3)\n",
      "Requirement already satisfied: regex!=2019.12.17 in c:\\programdata\\anaconda3\\lib\\site-packages (from transformers<4.31.0,>=3.4.0->spacy_transformers) (2022.3.15)\n",
      "Requirement already satisfied: safetensors>=0.3.1 in c:\\users\\yuva7\\appdata\\roaming\\python\\python39\\site-packages (from transformers<4.31.0,>=3.4.0->spacy_transformers) (0.3.3)\n",
      "Requirement already satisfied: huggingface-hub<1.0,>=0.14.1 in c:\\users\\yuva7\\appdata\\roaming\\python\\python39\\site-packages (from transformers<4.31.0,>=3.4.0->spacy_transformers) (0.17.1)\n",
      "Requirement already satisfied: fsspec in c:\\programdata\\anaconda3\\lib\\site-packages (from huggingface-hub<1.0,>=0.14.1->transformers<4.31.0,>=3.4.0->spacy_transformers) (2022.2.0)\n",
      "Requirement already satisfied: click<9.0.0,>=7.1.1 in c:\\programdata\\anaconda3\\lib\\site-packages (from typer<0.10.0,>=0.3.0->spacy<4.0.0,>=3.5.0->spacy_transformers) (8.0.4)\n",
      "Requirement already satisfied: MarkupSafe>=0.23 in c:\\programdata\\anaconda3\\lib\\site-packages (from jinja2->spacy<4.0.0,>=3.5.0->spacy_transformers) (2.0.1)\n",
      "Requirement already satisfied: mpmath>=0.19 in c:\\programdata\\anaconda3\\lib\\site-packages (from sympy->torch>=1.8.0->spacy_transformers) (1.2.1)\n"
     ]
    },
    {
     "name": "stdout",
     "output_type": "stream",
     "text": [
      "^C\n"
     ]
    }
   ],
   "source": [
    "!pip install -U spacy\n",
    "!pip install spacy_transformers\n",
    "!pip install cupy==12.0.0b1"
   ]
  },
  {
   "cell_type": "code",
   "execution_count": 4,
   "id": "8bfc9cc0",
   "metadata": {},
   "outputs": [],
   "source": [
    "import spacy\n",
    "from spacy.tokens import DocBin\n",
    "from tqdm import tqdm\n",
    "import json\n"
   ]
  },
  {
   "cell_type": "code",
   "execution_count": 5,
   "id": "563f9eaa",
   "metadata": {},
   "outputs": [
    {
     "data": {
      "text/plain": [
       "'3.6.1'"
      ]
     },
     "execution_count": 5,
     "metadata": {},
     "output_type": "execute_result"
    }
   ],
   "source": [
    "spacy.__version__"
   ]
  },
  {
   "cell_type": "code",
   "execution_count": 6,
   "id": "edf72411",
   "metadata": {},
   "outputs": [
    {
     "name": "stdout",
     "output_type": "stream",
     "text": [
      "Sun Sep 17 12:48:23 2023       \n",
      "+---------------------------------------------------------------------------------------+\n",
      "| NVIDIA-SMI 537.34                 Driver Version: 537.34       CUDA Version: 12.2     |\n",
      "|-----------------------------------------+----------------------+----------------------+\n",
      "| GPU  Name                     TCC/WDDM  | Bus-Id        Disp.A | Volatile Uncorr. ECC |\n",
      "| Fan  Temp   Perf          Pwr:Usage/Cap |         Memory-Usage | GPU-Util  Compute M. |\n",
      "|                                         |                      |               MIG M. |\n",
      "|=========================================+======================+======================|\n",
      "|   0  NVIDIA GeForce RTX 3050 ...  WDDM  | 00000000:01:00.0 Off |                  N/A |\n",
      "| N/A   49C    P0              15W /  75W |      0MiB /  4096MiB |      0%      Default |\n",
      "|                                         |                      |                  N/A |\n",
      "+-----------------------------------------+----------------------+----------------------+\n",
      "                                                                                         \n",
      "+---------------------------------------------------------------------------------------+\n",
      "| Processes:                                                                            |\n",
      "|  GPU   GI   CI        PID   Type   Process name                            GPU Memory |\n",
      "|        ID   ID                                                             Usage      |\n",
      "|=======================================================================================|\n",
      "|  No running processes found                                                           |\n",
      "+---------------------------------------------------------------------------------------+\n"
     ]
    }
   ],
   "source": [
    "!nvidia-smi"
   ]
  },
  {
   "cell_type": "code",
   "execution_count": 7,
   "id": "11ebd680",
   "metadata": {},
   "outputs": [],
   "source": [
    "cv_data = json.load(open('dataset/dataset.json','r'))"
   ]
  },
  {
   "cell_type": "code",
   "execution_count": 8,
   "id": "d197e5b7",
   "metadata": {},
   "outputs": [
    {
     "data": {
      "text/plain": [
       "1014"
      ]
     },
     "execution_count": 8,
     "metadata": {},
     "output_type": "execute_result"
    }
   ],
   "source": [
    "len(cv_data)"
   ]
  },
  {
   "cell_type": "code",
   "execution_count": 9,
   "id": "6bc42c2d",
   "metadata": {},
   "outputs": [
    {
     "data": {
      "text/plain": [
       "['\\xa0 \\xa0\\nContact\\nwww.linkedin.com/in/omjagri\\n(LinkedIn)\\nTop Skills\\nphp\\nMySQL\\nJavaScript\\nCertifications\\nPhp & Js Om Prakash Jagri\\nFull Stack Developer | PHP | Laravel | Vue Js\\nKathmandu, Bāgmatī, Nepal\\nSummary\\nExperienced Developer with a demonstrated history of working in\\nthe information technology and services industry. Skilled in Laravel,\\nPHP, Cascading Style Sheets (CSS), JavaScript, vue js and MySQL.\\nStrong engineering professional with a B.sc.CSIT(Bachelors of\\nScience in Computer Science and Information Technology) focused\\nin Computer Science from Tribhuvan University, Institute of Science\\n& Tchnology. \\nExperience\\nSearchable Design LLC\\nSoftware Developer\\nJune 2021\\xa0-\\xa0Present\\xa0 (1 year 7 months)\\nNepal\\nFull Stack Developer Laravel with Vue Js\\nBenekiva\\nTechnical Documentation\\nSeptember 2021\\xa0-\\xa0Present\\xa0 (1 year 4 months)\\nUnited States\\nBidhee\\n3 years 9 months\\nLaravel Developer\\nMarch 2018\\xa0-\\xa0May 2021\\xa0 (3 years 3 months)\\nBaneswar Kathamandu\\nInternship\\nSeptember 2017\\xa0-\\xa0February 2018\\xa0 (6 months)\\nKathamandu Nepal\\nWeb Development in PHP/JS With Laravel Framework \\nEducation\\n\\xa0 Page 1 of 2\\xa0 \\xa0\\nSiddhanath Science Campus Mahendranagar\\nB.sc.CSIT(Bachelors of Science in Computer Science and Information\\nTechnology),\\xa0Computer Science \\xa0·\\xa0(2013\\xa0-\\xa02018)\\n\\xa0 Page 2 of 2',\n",
       " {'entities': [[12, 39, 'LINKEDIN LINK'],\n",
       "   [62, 65, 'SKILLS'],\n",
       "   [66, 71, 'SKILLS'],\n",
       "   [72, 82, 'SKILLS'],\n",
       "   [98, 106, 'CERTIFICATION'],\n",
       "   [107, 123, 'NAME'],\n",
       "   [147, 150, 'SKILLS'],\n",
       "   [153, 160, 'SKILLS'],\n",
       "   [163, 169, 'SKILLS'],\n",
       "   [170, 195, 'LOCATION'],\n",
       "   [622, 643, 'COMPANIES WORKED AT'],\n",
       "   [644, 662, 'WORKED AS'],\n",
       "   [685, 700, 'YEARS OF EXPERIENCE'],\n",
       "   [749, 757, 'COMPANIES WORKED AT'],\n",
       "   [758, 781, 'WORKED AS'],\n",
       "   [809, 824, 'YEARS OF EXPERIENCE'],\n",
       "   [840, 846, 'COMPANIES WORKED AT'],\n",
       "   [864, 881, 'WORKED AS'],\n",
       "   [906, 922, 'YEARS OF EXPERIENCE'],\n",
       "   [944, 954, 'WORKED AS'],\n",
       "   [988, 996, 'YEARS OF EXPERIENCE'],\n",
       "   [1092, 1131, 'COLLEGE NAME'],\n",
       "   [1132, 1228, 'DEGREE']]}]"
      ]
     },
     "execution_count": 9,
     "metadata": {},
     "output_type": "execute_result"
    }
   ],
   "source": [
    "cv_data[0]"
   ]
  },
  {
   "cell_type": "code",
   "execution_count": 10,
   "id": "e9b9569f",
   "metadata": {},
   "outputs": [
    {
     "name": "stdout",
     "output_type": "stream",
     "text": [
      "\u001b[38;5;2m[+] Auto-filled config with all values\u001b[0m\n",
      "\u001b[38;5;2m[+] Saved config\u001b[0m\n",
      "config\\config.cfg\n",
      "You can now add your data and train your pipeline:\n",
      "python -m spacy train config.cfg --paths.train ./train.spacy --paths.dev ./dev.spacy\n"
     ]
    }
   ],
   "source": [
    "!python -m spacy init fill-config config/base_config.cfg config/config.cfg"
   ]
  },
  {
   "cell_type": "code",
   "execution_count": 11,
   "id": "4e84ce3c",
   "metadata": {},
   "outputs": [],
   "source": [
    "def get_spacy_doc(file, data):\n",
    "    nlp = spacy.blank(\"en\")\n",
    "    db = DocBin()\n",
    "    \n",
    "    for text, annot in tqdm(data):\n",
    "        doc = nlp.make_doc(text)\n",
    "        annot = annot['entities']\n",
    "        \n",
    "        ents = []\n",
    "        entity_indices = []\n",
    "        \n",
    "        for start, end, label in annot:\n",
    "            skip_entity = False\n",
    "            for idx in range(start, end):\n",
    "                if idx in entity_indices:\n",
    "                    skip_entity = True\n",
    "                    break\n",
    "            if skip_entity == True:\n",
    "                continue\n",
    "                \n",
    "            entity_indices = entity_indices + list(range(start,end))\n",
    "            \n",
    "            try:\n",
    "                span = doc.char_span(start, end, label=label, alignment_mode='contract')\n",
    "            except:\n",
    "                continue\n",
    "            \n",
    "            if span is None:\n",
    "                err_data = str([start,end]) + \"    \" + str(text) + \"\\n\"\n",
    "                file.write(err_data)\n",
    "            \n",
    "            else:\n",
    "                ents.append(span)\n",
    "                \n",
    "        try:\n",
    "            doc.ents = ents\n",
    "            db.add(doc)\n",
    "        except:\n",
    "            pass\n",
    "            \n",
    "    return db\n",
    "                \n",
    "        "
   ]
  },
  {
   "cell_type": "code",
   "execution_count": 12,
   "id": "b1f768d2",
   "metadata": {},
   "outputs": [],
   "source": [
    "from sklearn.model_selection import train_test_split\n",
    "train, test = train_test_split(cv_data, test_size=0.3)"
   ]
  },
  {
   "cell_type": "code",
   "execution_count": 13,
   "id": "e73a55b7",
   "metadata": {},
   "outputs": [
    {
     "data": {
      "text/plain": [
       "(709, 305)"
      ]
     },
     "execution_count": 13,
     "metadata": {},
     "output_type": "execute_result"
    }
   ],
   "source": [
    "len(train), len(test)"
   ]
  },
  {
   "cell_type": "code",
   "execution_count": 14,
   "id": "81a82614",
   "metadata": {},
   "outputs": [
    {
     "name": "stderr",
     "output_type": "stream",
     "text": [
      "100%|███████████████████████████████████████████████████████████████████████████████| 709/709 [00:04<00:00, 166.05it/s]\n",
      "100%|███████████████████████████████████████████████████████████████████████████████| 305/305 [00:01<00:00, 166.61it/s]\n"
     ]
    }
   ],
   "source": [
    "file = open('model/train_file.txt','w', encoding='utf-8')\n",
    "\n",
    "db = get_spacy_doc(file, train)\n",
    "db.to_disk('model/train_data.spacy')\n",
    "\n",
    "db = get_spacy_doc(file, test)\n",
    "db.to_disk('model/test_data.spacy')\n",
    "\n",
    "file.close()"
   ]
  },
  {
   "cell_type": "code",
   "execution_count": 15,
   "id": "acb4b70c",
   "metadata": {},
   "outputs": [
    {
     "data": {
      "text/plain": [
       "305"
      ]
     },
     "execution_count": 15,
     "metadata": {},
     "output_type": "execute_result"
    }
   ],
   "source": [
    "len(db.tokens)"
   ]
  },
  {
   "cell_type": "code",
   "execution_count": 17,
   "id": "e30d4d74",
   "metadata": {
    "scrolled": true
   },
   "outputs": [
    {
     "name": "stdout",
     "output_type": "stream",
     "text": [
      "^C\n"
     ]
    }
   ],
   "source": [
    "!python -m spacy train config/config.cfg --output model/output --paths.train model/train_data.spacy --paths.dev model/test_data.spacy --gpu-id 1"
   ]
  },
  {
   "cell_type": "code",
   "execution_count": 19,
   "id": "c321f7ac",
   "metadata": {},
   "outputs": [
    {
     "name": "stderr",
     "output_type": "stream",
     "text": [
      "C:\\Users\\yuva7\\AppData\\Roaming\\Python\\Python39\\site-packages\\spacy\\util.py:910: UserWarning: [W095] Model 'en_pipeline' (0.0.0) was trained with spaCy v3.5.0 and may not be 100% compatible with the current version (3.6.1). If you see errors or degraded performance, download a newer compatible model or retrain your custom model with the current spaCy version. For more details and available updates, run: python -m spacy validate\n",
      "  warnings.warn(warn_msg)\n"
     ]
    }
   ],
   "source": [
    "nlp = spacy.load('model/output/model-best')"
   ]
  },
  {
   "cell_type": "code",
   "execution_count": 20,
   "id": "7756be7c",
   "metadata": {},
   "outputs": [
    {
     "name": "stdout",
     "output_type": "stream",
     "text": [
      "Defaulting to user installation because normal site-packages is not writeable\n",
      "Collecting PyMuPDF\n",
      "  Downloading PyMuPDF-1.23.3-cp39-none-win_amd64.whl (3.5 MB)\n",
      "Collecting PyMuPDFb==1.23.3\n",
      "  Downloading PyMuPDFb-1.23.3-py3-none-win_amd64.whl (24.4 MB)\n",
      "Installing collected packages: PyMuPDFb, PyMuPDF\n",
      "Successfully installed PyMuPDF-1.23.3 PyMuPDFb-1.23.3\n"
     ]
    }
   ],
   "source": [
    "!pip install PyMuPDF"
   ]
  },
  {
   "cell_type": "code",
   "execution_count": 27,
   "id": "5182ff58",
   "metadata": {},
   "outputs": [],
   "source": [
    "import sys, fitz\n",
    "\n",
    "fname = 'test/test2.pdf'\n",
    "doc = fitz.open(fname)"
   ]
  },
  {
   "cell_type": "code",
   "execution_count": 28,
   "id": "acc5ab35",
   "metadata": {},
   "outputs": [],
   "source": [
    "text = \" \"\n",
    "for page in doc:\n",
    "    text = text + str(page.get_text())"
   ]
  },
  {
   "cell_type": "code",
   "execution_count": 29,
   "id": "08734ff4",
   "metadata": {},
   "outputs": [
    {
     "data": {
      "text/plain": [
       "\" \\xa0\\n\\xa0\\nContact\\nwww.linkedin.com/in/anushil-\\ntimsina-2813a11b6 (LinkedIn)\\nTop Skills\\nGit\\nMySQL\\nMachine Learning\\nCertifications\\nPower BI Fundamentals\\nData Science Certification Training\\nDeep Learning in Python Track\\nData Scientist with Python Track\\nPython Fundamentals Track\\nAnushil Timsina\\nStudent at Khwopa College of Engineering\\nBāgmatī, Nepal\\nSummary\\nI am a student at Khwopa College of Engineering studying Computer\\nEngineering. \\nI have basic knowledge of:\\n• Python\\n• Data Science\\n• Machine Learning\\nI am interested in the field of - \\n•Machine Learning \\n• Data Science.\\nYou can find few basic projects I have done on : \\nhttps://github.com/Anushil007\\nEducation\\nKhwopa College of Engineering\\nBachelor's in Engineering,\\xa0Computer Engineering\\xa0·\\xa0(2018\\xa0-\\xa02023)\\nKathmandu Model Secondary School\\n+2,\\xa0Science\\xa0·\\xa0(July 2016\\xa0-\\xa0July 2018)\\n\\xa0\\nPage 1 of 1\\n\""
      ]
     },
     "execution_count": 29,
     "metadata": {},
     "output_type": "execute_result"
    }
   ],
   "source": [
    "text"
   ]
  },
  {
   "cell_type": "code",
   "execution_count": 30,
   "id": "9d8a44fa",
   "metadata": {},
   "outputs": [
    {
     "name": "stdout",
     "output_type": "stream",
     "text": [
      "www.linkedin.com/in/anushil-\n",
      "timsina-2813a11b6   ->>>>   LINKEDIN LINK\n",
      "Git   ->>>>   SKILLS\n",
      "MySQL   ->>>>   SKILLS\n",
      "Machine Learning   ->>>>   SKILLS\n",
      "Power BI Fundamentals   ->>>>   CERTIFICATION\n",
      "Data Science Certification Training   ->>>>   CERTIFICATION\n",
      "Deep Learning in Python Track   ->>>>   CERTIFICATION\n",
      "Data Scientist with Python Track   ->>>>   CERTIFICATION\n",
      "Python Fundamentals Track   ->>>>   CERTIFICATION\n",
      "Anushil Timsina   ->>>>   NAME\n",
      "Bāgmatī, Nepal   ->>>>   LOCATION\n",
      "Khwopa College of Engineering   ->>>>   COLLEGE NAME\n",
      "Bachelor's in Engineering, Computer Engineering   ->>>>   DEGREE\n"
     ]
    }
   ],
   "source": [
    "doc = nlp(text)\n",
    "for ent in doc.ents:\n",
    "    print(ent.text, \"  ->>>>  \", ent.label_)"
   ]
  },
  {
   "cell_type": "code",
   "execution_count": null,
   "id": "77819ada",
   "metadata": {},
   "outputs": [],
   "source": []
  }
 ],
 "metadata": {
  "kernelspec": {
   "display_name": "Python 3 (ipykernel)",
   "language": "python",
   "name": "python3"
  },
  "language_info": {
   "codemirror_mode": {
    "name": "ipython",
    "version": 3
   },
   "file_extension": ".py",
   "mimetype": "text/x-python",
   "name": "python",
   "nbconvert_exporter": "python",
   "pygments_lexer": "ipython3",
   "version": "3.9.12"
  }
 },
 "nbformat": 4,
 "nbformat_minor": 5
}
